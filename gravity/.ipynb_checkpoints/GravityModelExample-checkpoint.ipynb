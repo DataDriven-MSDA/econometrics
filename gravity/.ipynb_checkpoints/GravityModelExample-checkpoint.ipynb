{
 "cells": [
  {
   "cell_type": "markdown",
   "metadata": {},
   "source": [
    "Gravity Model\n",
    "=======\n",
    "\n",
    "The gravity model is the workhorse of empirical nternational trade analysis. It is originally based around the idea of gravitational force:\n",
    "\n",
    "$Export_{ij} = \\frac{GDP_i * GDP_j}{Distance_{ij}}$\n",
    "\n",
    "Estimating this using ordinary least squares requires linearizing the model:\n",
    "\n",
    "$\\log{Export_{ij}} = \\log{GDP_i} + \\log{GDP_j} - \\log(Distance_{ij})$\n",
    "\n",
    "In its most basic form distance is the physical distance between two countries. \n",
    "However in reality there are many sources of ``distance`` that are associated with the cost of trade such as landlockedness that can be added into the regression as additional explanatory variables.\n",
    "\n",
    "Data\n",
    "-----\n",
    "Trade data is sourced from: http://atlas.media.mit.edu/en/resources/data/. And uses the SITC rev 2. product level trade dataset. This product level data is aggregated to form a bilateral trade dataset at the country level.\n",
    "\n",
    "Distance and Geography is sourced from CEPII: http://www.cepii.fr/CEPII/en/bdd_modele/presentation.asp?id=6\n",
    "\n",
    "GDP and Population statistics are from the World Development Indicators: http://data.worldbank.org/data-catalog/world-development-indicators"
   ]
  },
  {
   "cell_type": "code",
   "execution_count": 1,
   "metadata": {
    "collapsed": true
   },
   "outputs": [],
   "source": [
    "%matplotlib inline"
   ]
  },
  {
   "cell_type": "code",
   "execution_count": 2,
   "metadata": {
    "collapsed": true
   },
   "outputs": [],
   "source": [
    "import pandas as pd\n",
    "import statsmodels.formula.api as smf\n",
    "from numpy import log"
   ]
  },
  {
   "cell_type": "markdown",
   "metadata": {},
   "source": [
    "Import Data from a ``csv`` data file for the year 2013"
   ]
  },
  {
   "cell_type": "code",
   "execution_count": 3,
   "metadata": {
    "collapsed": true
   },
   "outputs": [],
   "source": [
    "data = pd.read_csv(\"./data/gravity_dataset_2013.csv\")"
   ]
  },
  {
   "cell_type": "code",
   "execution_count": 4,
   "metadata": {
    "collapsed": false
   },
   "outputs": [
    {
     "data": {
      "text/html": [
       "<div>\n",
       "<table border=\"1\" class=\"dataframe\">\n",
       "  <thead>\n",
       "    <tr style=\"text-align: right;\">\n",
       "      <th></th>\n",
       "      <th>year</th>\n",
       "      <th>iiso3c</th>\n",
       "      <th>eiso3c</th>\n",
       "      <th>value</th>\n",
       "      <th>contig</th>\n",
       "      <th>comlang_off</th>\n",
       "      <th>colony</th>\n",
       "      <th>dist</th>\n",
       "      <th>distcap</th>\n",
       "      <th>distw</th>\n",
       "      <th>distwces</th>\n",
       "      <th>ell</th>\n",
       "      <th>ill</th>\n",
       "      <th>egdp</th>\n",
       "      <th>egdppc</th>\n",
       "      <th>epop</th>\n",
       "      <th>igdp</th>\n",
       "      <th>igdppc</th>\n",
       "      <th>ipop</th>\n",
       "    </tr>\n",
       "  </thead>\n",
       "  <tbody>\n",
       "    <tr>\n",
       "      <th>0</th>\n",
       "      <td>2013</td>\n",
       "      <td>ABW</td>\n",
       "      <td>BEL</td>\n",
       "      <td>774353</td>\n",
       "      <td>0</td>\n",
       "      <td>1</td>\n",
       "      <td>0</td>\n",
       "      <td>7847.070</td>\n",
       "      <td>7847.070</td>\n",
       "      <td>7843.255</td>\n",
       "      <td>7843.006</td>\n",
       "      <td>0</td>\n",
       "      <td>0</td>\n",
       "      <td>4.204710e+11</td>\n",
       "      <td>37599.735498</td>\n",
       "      <td>11182817</td>\n",
       "      <td>NaN</td>\n",
       "      <td>NaN</td>\n",
       "      <td>102921</td>\n",
       "    </tr>\n",
       "    <tr>\n",
       "      <th>1</th>\n",
       "      <td>2013</td>\n",
       "      <td>ABW</td>\n",
       "      <td>BHS</td>\n",
       "      <td>4712537</td>\n",
       "      <td>0</td>\n",
       "      <td>0</td>\n",
       "      <td>0</td>\n",
       "      <td>1588.515</td>\n",
       "      <td>1588.515</td>\n",
       "      <td>1634.515</td>\n",
       "      <td>1628.143</td>\n",
       "      <td>0</td>\n",
       "      <td>0</td>\n",
       "      <td>7.835118e+09</td>\n",
       "      <td>20736.547344</td>\n",
       "      <td>377841</td>\n",
       "      <td>NaN</td>\n",
       "      <td>NaN</td>\n",
       "      <td>102921</td>\n",
       "    </tr>\n",
       "    <tr>\n",
       "      <th>2</th>\n",
       "      <td>2013</td>\n",
       "      <td>ABW</td>\n",
       "      <td>CHE</td>\n",
       "      <td>17812626</td>\n",
       "      <td>0</td>\n",
       "      <td>0</td>\n",
       "      <td>0</td>\n",
       "      <td>8056.332</td>\n",
       "      <td>8056.332</td>\n",
       "      <td>8074.21</td>\n",
       "      <td>8073.511</td>\n",
       "      <td>1</td>\n",
       "      <td>0</td>\n",
       "      <td>4.772463e+11</td>\n",
       "      <td>58996.896141</td>\n",
       "      <td>8089346</td>\n",
       "      <td>NaN</td>\n",
       "      <td>NaN</td>\n",
       "      <td>102921</td>\n",
       "    </tr>\n",
       "    <tr>\n",
       "      <th>3</th>\n",
       "      <td>2013</td>\n",
       "      <td>ABW</td>\n",
       "      <td>CHN</td>\n",
       "      <td>25319168</td>\n",
       "      <td>0</td>\n",
       "      <td>0</td>\n",
       "      <td>0</td>\n",
       "      <td>14155.350</td>\n",
       "      <td>14155.350</td>\n",
       "      <td>14590.92</td>\n",
       "      <td>14560.28</td>\n",
       "      <td>0</td>\n",
       "      <td>0</td>\n",
       "      <td>4.912954e+12</td>\n",
       "      <td>3619.439108</td>\n",
       "      <td>1357380000</td>\n",
       "      <td>NaN</td>\n",
       "      <td>NaN</td>\n",
       "      <td>102921</td>\n",
       "    </tr>\n",
       "    <tr>\n",
       "      <th>4</th>\n",
       "      <td>2013</td>\n",
       "      <td>ABW</td>\n",
       "      <td>COL</td>\n",
       "      <td>22160086</td>\n",
       "      <td>0</td>\n",
       "      <td>1</td>\n",
       "      <td>0</td>\n",
       "      <td>1036.634</td>\n",
       "      <td>1036.634</td>\n",
       "      <td>929.5887</td>\n",
       "      <td>861.2452</td>\n",
       "      <td>0</td>\n",
       "      <td>0</td>\n",
       "      <td>2.129079e+11</td>\n",
       "      <td>4497.196936</td>\n",
       "      <td>47342363</td>\n",
       "      <td>NaN</td>\n",
       "      <td>NaN</td>\n",
       "      <td>102921</td>\n",
       "    </tr>\n",
       "  </tbody>\n",
       "</table>\n",
       "</div>"
      ],
      "text/plain": [
       "   year iiso3c eiso3c     value  contig  comlang_off  colony       dist  \\\n",
       "0  2013    ABW    BEL    774353       0            1       0   7847.070   \n",
       "1  2013    ABW    BHS   4712537       0            0       0   1588.515   \n",
       "2  2013    ABW    CHE  17812626       0            0       0   8056.332   \n",
       "3  2013    ABW    CHN  25319168       0            0       0  14155.350   \n",
       "4  2013    ABW    COL  22160086       0            1       0   1036.634   \n",
       "\n",
       "     distcap     distw  distwces  ell  ill          egdp        egdppc  \\\n",
       "0   7847.070  7843.255  7843.006    0    0  4.204710e+11  37599.735498   \n",
       "1   1588.515  1634.515  1628.143    0    0  7.835118e+09  20736.547344   \n",
       "2   8056.332   8074.21  8073.511    1    0  4.772463e+11  58996.896141   \n",
       "3  14155.350  14590.92  14560.28    0    0  4.912954e+12   3619.439108   \n",
       "4   1036.634  929.5887  861.2452    0    0  2.129079e+11   4497.196936   \n",
       "\n",
       "         epop  igdp  igdppc    ipop  \n",
       "0    11182817   NaN     NaN  102921  \n",
       "1      377841   NaN     NaN  102921  \n",
       "2     8089346   NaN     NaN  102921  \n",
       "3  1357380000   NaN     NaN  102921  \n",
       "4    47342363   NaN     NaN  102921  "
      ]
     },
     "execution_count": 4,
     "metadata": {},
     "output_type": "execute_result"
    }
   ],
   "source": [
    "data.head()"
   ]
  },
  {
   "cell_type": "markdown",
   "metadata": {},
   "source": [
    "Description of the Data"
   ]
  },
  {
   "cell_type": "code",
   "execution_count": 5,
   "metadata": {
    "collapsed": false
   },
   "outputs": [
    {
     "data": {
      "text/html": [
       "<div>\n",
       "<table border=\"1\" class=\"dataframe\">\n",
       "  <thead>\n",
       "    <tr style=\"text-align: right;\">\n",
       "      <th></th>\n",
       "      <th>year</th>\n",
       "      <th>value</th>\n",
       "      <th>contig</th>\n",
       "      <th>comlang_off</th>\n",
       "      <th>colony</th>\n",
       "      <th>dist</th>\n",
       "      <th>distcap</th>\n",
       "      <th>ell</th>\n",
       "      <th>ill</th>\n",
       "      <th>egdp</th>\n",
       "      <th>egdppc</th>\n",
       "      <th>epop</th>\n",
       "      <th>igdp</th>\n",
       "      <th>igdppc</th>\n",
       "      <th>ipop</th>\n",
       "    </tr>\n",
       "  </thead>\n",
       "  <tbody>\n",
       "    <tr>\n",
       "      <th>count</th>\n",
       "      <td>26886</td>\n",
       "      <td>2.549100e+04</td>\n",
       "      <td>26886.000000</td>\n",
       "      <td>26886.000000</td>\n",
       "      <td>26886.000000</td>\n",
       "      <td>26886.000000</td>\n",
       "      <td>26886.000000</td>\n",
       "      <td>26886.000000</td>\n",
       "      <td>26886.000000</td>\n",
       "      <td>2.544700e+04</td>\n",
       "      <td>25447.000000</td>\n",
       "      <td>2.688600e+04</td>\n",
       "      <td>2.618400e+04</td>\n",
       "      <td>26184.000000</td>\n",
       "      <td>2.688600e+04</td>\n",
       "    </tr>\n",
       "    <tr>\n",
       "      <th>mean</th>\n",
       "      <td>2013</td>\n",
       "      <td>9.902996e+08</td>\n",
       "      <td>0.020494</td>\n",
       "      <td>0.157033</td>\n",
       "      <td>0.015696</td>\n",
       "      <td>7700.812375</td>\n",
       "      <td>7667.895301</td>\n",
       "      <td>0.172432</td>\n",
       "      <td>0.171799</td>\n",
       "      <td>4.728611e+11</td>\n",
       "      <td>12217.536595</td>\n",
       "      <td>4.532196e+07</td>\n",
       "      <td>5.963956e+11</td>\n",
       "      <td>14242.164850</td>\n",
       "      <td>5.475265e+07</td>\n",
       "    </tr>\n",
       "    <tr>\n",
       "      <th>std</th>\n",
       "      <td>0</td>\n",
       "      <td>8.747958e+09</td>\n",
       "      <td>0.141685</td>\n",
       "      <td>0.363839</td>\n",
       "      <td>0.124298</td>\n",
       "      <td>4454.436588</td>\n",
       "      <td>4453.037401</td>\n",
       "      <td>0.377762</td>\n",
       "      <td>0.377213</td>\n",
       "      <td>1.715557e+12</td>\n",
       "      <td>16554.072884</td>\n",
       "      <td>1.484285e+08</td>\n",
       "      <td>1.920917e+12</td>\n",
       "      <td>17643.256626</td>\n",
       "      <td>1.678096e+08</td>\n",
       "    </tr>\n",
       "    <tr>\n",
       "      <th>min</th>\n",
       "      <td>2013</td>\n",
       "      <td>1.000000e+00</td>\n",
       "      <td>0.000000</td>\n",
       "      <td>0.000000</td>\n",
       "      <td>0.000000</td>\n",
       "      <td>8.300385</td>\n",
       "      <td>8.300385</td>\n",
       "      <td>0.000000</td>\n",
       "      <td>0.000000</td>\n",
       "      <td>2.620733e+07</td>\n",
       "      <td>150.744900</td>\n",
       "      <td>9.876000e+03</td>\n",
       "      <td>1.203875e+08</td>\n",
       "      <td>150.744900</td>\n",
       "      <td>2.091900e+04</td>\n",
       "    </tr>\n",
       "    <tr>\n",
       "      <th>25%</th>\n",
       "      <td>2013</td>\n",
       "      <td>1.034865e+05</td>\n",
       "      <td>0.000000</td>\n",
       "      <td>0.000000</td>\n",
       "      <td>0.000000</td>\n",
       "      <td>4221.304000</td>\n",
       "      <td>4153.092750</td>\n",
       "      <td>0.000000</td>\n",
       "      <td>0.000000</td>\n",
       "      <td>8.204074e+09</td>\n",
       "      <td>1122.482815</td>\n",
       "      <td>2.897366e+06</td>\n",
       "      <td>1.303300e+10</td>\n",
       "      <td>1467.611736</td>\n",
       "      <td>3.872684e+06</td>\n",
       "    </tr>\n",
       "    <tr>\n",
       "      <th>50%</th>\n",
       "      <td>2013</td>\n",
       "      <td>3.715586e+06</td>\n",
       "      <td>0.000000</td>\n",
       "      <td>0.000000</td>\n",
       "      <td>0.000000</td>\n",
       "      <td>7291.663000</td>\n",
       "      <td>7264.896000</td>\n",
       "      <td>0.000000</td>\n",
       "      <td>0.000000</td>\n",
       "      <td>3.150948e+10</td>\n",
       "      <td>4497.196936</td>\n",
       "      <td>1.028141e+07</td>\n",
       "      <td>5.823843e+10</td>\n",
       "      <td>5896.096631</td>\n",
       "      <td>1.088650e+07</td>\n",
       "    </tr>\n",
       "    <tr>\n",
       "      <th>75%</th>\n",
       "      <td>2013</td>\n",
       "      <td>8.051373e+07</td>\n",
       "      <td>0.000000</td>\n",
       "      <td>0.000000</td>\n",
       "      <td>0.000000</td>\n",
       "      <td>10738.990000</td>\n",
       "      <td>10693.975000</td>\n",
       "      <td>0.000000</td>\n",
       "      <td>0.000000</td>\n",
       "      <td>2.124327e+11</td>\n",
       "      <td>15447.307422</td>\n",
       "      <td>3.378138e+07</td>\n",
       "      <td>3.237434e+11</td>\n",
       "      <td>22152.412473</td>\n",
       "      <td>4.369288e+07</td>\n",
       "    </tr>\n",
       "    <tr>\n",
       "      <th>max</th>\n",
       "      <td>2013</td>\n",
       "      <td>4.220679e+11</td>\n",
       "      <td>1.000000</td>\n",
       "      <td>1.000000</td>\n",
       "      <td>1.000000</td>\n",
       "      <td>19812.040000</td>\n",
       "      <td>19812.040000</td>\n",
       "      <td>1.000000</td>\n",
       "      <td>1.000000</td>\n",
       "      <td>1.445151e+13</td>\n",
       "      <td>79511.205382</td>\n",
       "      <td>1.357380e+09</td>\n",
       "      <td>1.445151e+13</td>\n",
       "      <td>79511.205382</td>\n",
       "      <td>1.357380e+09</td>\n",
       "    </tr>\n",
       "  </tbody>\n",
       "</table>\n",
       "</div>"
      ],
      "text/plain": [
       "        year         value        contig   comlang_off        colony  \\\n",
       "count  26886  2.549100e+04  26886.000000  26886.000000  26886.000000   \n",
       "mean    2013  9.902996e+08      0.020494      0.157033      0.015696   \n",
       "std        0  8.747958e+09      0.141685      0.363839      0.124298   \n",
       "min     2013  1.000000e+00      0.000000      0.000000      0.000000   \n",
       "25%     2013  1.034865e+05      0.000000      0.000000      0.000000   \n",
       "50%     2013  3.715586e+06      0.000000      0.000000      0.000000   \n",
       "75%     2013  8.051373e+07      0.000000      0.000000      0.000000   \n",
       "max     2013  4.220679e+11      1.000000      1.000000      1.000000   \n",
       "\n",
       "               dist       distcap           ell           ill          egdp  \\\n",
       "count  26886.000000  26886.000000  26886.000000  26886.000000  2.544700e+04   \n",
       "mean    7700.812375   7667.895301      0.172432      0.171799  4.728611e+11   \n",
       "std     4454.436588   4453.037401      0.377762      0.377213  1.715557e+12   \n",
       "min        8.300385      8.300385      0.000000      0.000000  2.620733e+07   \n",
       "25%     4221.304000   4153.092750      0.000000      0.000000  8.204074e+09   \n",
       "50%     7291.663000   7264.896000      0.000000      0.000000  3.150948e+10   \n",
       "75%    10738.990000  10693.975000      0.000000      0.000000  2.124327e+11   \n",
       "max    19812.040000  19812.040000      1.000000      1.000000  1.445151e+13   \n",
       "\n",
       "             egdppc          epop          igdp        igdppc          ipop  \n",
       "count  25447.000000  2.688600e+04  2.618400e+04  26184.000000  2.688600e+04  \n",
       "mean   12217.536595  4.532196e+07  5.963956e+11  14242.164850  5.475265e+07  \n",
       "std    16554.072884  1.484285e+08  1.920917e+12  17643.256626  1.678096e+08  \n",
       "min      150.744900  9.876000e+03  1.203875e+08    150.744900  2.091900e+04  \n",
       "25%     1122.482815  2.897366e+06  1.303300e+10   1467.611736  3.872684e+06  \n",
       "50%     4497.196936  1.028141e+07  5.823843e+10   5896.096631  1.088650e+07  \n",
       "75%    15447.307422  3.378138e+07  3.237434e+11  22152.412473  4.369288e+07  \n",
       "max    79511.205382  1.357380e+09  1.445151e+13  79511.205382  1.357380e+09  "
      ]
     },
     "execution_count": 5,
     "metadata": {},
     "output_type": "execute_result"
    }
   ],
   "source": [
    "data.describe()"
   ]
  },
  {
   "cell_type": "code",
   "execution_count": 6,
   "metadata": {
    "collapsed": false
   },
   "outputs": [
    {
     "data": {
      "text/plain": [
       "Index([u'year', u'iiso3c', u'eiso3c', u'value', u'contig', u'comlang_off',\n",
       "       u'colony', u'dist', u'distcap', u'distw', u'distwces', u'ell', u'ill',\n",
       "       u'egdp', u'egdppc', u'epop', u'igdp', u'igdppc', u'ipop'],\n",
       "      dtype='object')"
      ]
     },
     "execution_count": 6,
     "metadata": {},
     "output_type": "execute_result"
    }
   ],
   "source": [
    "data.columns"
   ]
  },
  {
   "cell_type": "markdown",
   "metadata": {},
   "source": [
    "Estimate the basic gravity model"
   ]
  },
  {
   "cell_type": "code",
   "execution_count": 7,
   "metadata": {
    "collapsed": false
   },
   "outputs": [
    {
     "name": "stdout",
     "output_type": "stream",
     "text": [
      "                            OLS Regression Results                            \n",
      "==============================================================================\n",
      "Dep. Variable:             log(value)   R-squared:                       0.669\n",
      "Model:                            OLS   Adj. R-squared:                  0.669\n",
      "Method:                 Least Squares   F-statistic:                 1.551e+04\n",
      "Date:                Wed, 04 Nov 2015   Prob (F-statistic):               0.00\n",
      "Time:                        12:37:39   Log-Likelihood:                -56160.\n",
      "No. Observations:               23545   AIC:                         1.123e+05\n",
      "Df Residuals:                   23541   BIC:                         1.124e+05\n",
      "Df Model:                           3                                         \n",
      "Covariance Type:                  HC1                                         \n",
      "==============================================================================\n",
      "                 coef    std err          z      P>|z|      [95.0% Conf. Int.]\n",
      "------------------------------------------------------------------------------\n",
      "Intercept    -30.6140      0.344    -89.031      0.000       -31.288   -29.940\n",
      "log(egdp)      1.2839      0.007    178.154      0.000         1.270     1.298\n",
      "log(igdp)      1.0419      0.008    138.129      0.000         1.027     1.057\n",
      "log(dist)     -1.3591      0.021    -64.266      0.000        -1.401    -1.318\n",
      "==============================================================================\n",
      "Omnibus:                     2345.783   Durbin-Watson:                   1.547\n",
      "Prob(Omnibus):                  0.000   Jarque-Bera (JB):             4513.788\n",
      "Skew:                          -0.666   Prob(JB):                         0.00\n",
      "Kurtosis:                       4.681   Cond. No.                         697.\n",
      "==============================================================================\n",
      "\n",
      "Warnings:\n",
      "[1] Standard Errors are heteroscedasticity robust (HC1)\n"
     ]
    }
   ],
   "source": [
    "formula = \"log(value) ~ log(egdp) + log(igdp) + log(dist)\"\n",
    "model = smf.ols(formula, data)\n",
    "result = model.fit(cov_type='HC1')\n",
    "print(result.summary())"
   ]
  },
  {
   "cell_type": "code",
   "execution_count": 8,
   "metadata": {
    "collapsed": false
   },
   "outputs": [
    {
     "data": {
      "text/plain": [
       "328783.6680868658"
      ]
     },
     "execution_count": 8,
     "metadata": {},
     "output_type": "execute_result"
    }
   ],
   "source": [
    "result.ess"
   ]
  },
  {
   "cell_type": "code",
   "execution_count": 9,
   "metadata": {
    "collapsed": true
   },
   "outputs": [],
   "source": [
    "data2 = data[['value', 'egdp', 'igdp', 'dist']]"
   ]
  },
  {
   "cell_type": "code",
   "execution_count": 10,
   "metadata": {
    "collapsed": true
   },
   "outputs": [],
   "source": [
    "data2 = data2.dropna()"
   ]
  },
  {
   "cell_type": "code",
   "execution_count": 11,
   "metadata": {
    "collapsed": false
   },
   "outputs": [],
   "source": [
    "import numpy as np\n",
    "from numpy.linalg import inv\n",
    "from numpy import dot\n",
    "\n",
    "y = np.log(data2.value)\n",
    "X = np.ones((len(y), 4))\n",
    "X[:, 1] = np.log(data2.egdp)\n",
    "X[:, 2] = np.log(data2.igdp)\n",
    "X[:, 3] = np.log(data2.dist)"
   ]
  },
  {
   "cell_type": "code",
   "execution_count": 19,
   "metadata": {
    "collapsed": false
   },
   "outputs": [],
   "source": [
    "betahat = dot(dot(inv(dot(X.T, X)), X.T), y)"
   ]
  },
  {
   "cell_type": "code",
   "execution_count": 20,
   "metadata": {
    "collapsed": false
   },
   "outputs": [
    {
     "name": "stdout",
     "output_type": "stream",
     "text": [
      "[-30.61404678   1.28388089   1.04190019  -1.359129  ]\n"
     ]
    }
   ],
   "source": [
    "print(betahat)"
   ]
  },
  {
   "cell_type": "code",
   "execution_count": 14,
   "metadata": {
    "collapsed": true
   },
   "outputs": [],
   "source": [
    "Py = dot(X, betahat)\n",
    "My = y - Py"
   ]
  },
  {
   "cell_type": "code",
   "execution_count": 15,
   "metadata": {
    "collapsed": true
   },
   "outputs": [],
   "source": [
    "ess = np.sum(Py * Py)\n",
    "tss = np.sum(y * y)"
   ]
  },
  {
   "cell_type": "code",
   "execution_count": 18,
   "metadata": {
    "collapsed": false
   },
   "outputs": [
    {
     "data": {
      "text/plain": [
       "5622034.8519799635"
      ]
     },
     "execution_count": 18,
     "metadata": {},
     "output_type": "execute_result"
    }
   ],
   "source": [
    "ess"
   ]
  },
  {
   "cell_type": "code",
   "execution_count": 16,
   "metadata": {
    "collapsed": false
   },
   "outputs": [
    {
     "data": {
      "text/plain": [
       "0.9718853812933852"
      ]
     },
     "execution_count": 16,
     "metadata": {},
     "output_type": "execute_result"
    }
   ],
   "source": [
    "ess / tss"
   ]
  },
  {
   "cell_type": "code",
   "execution_count": 17,
   "metadata": {
    "collapsed": false
   },
   "outputs": [
    {
     "ename": "NameError",
     "evalue": "name 'result1' is not defined",
     "output_type": "error",
     "traceback": [
      "\u001b[1;31m---------------------------------------------------------------------------\u001b[0m",
      "\u001b[1;31mNameError\u001b[0m                                 Traceback (most recent call last)",
      "\u001b[1;32m<ipython-input-17-ff203ca0213e>\u001b[0m in \u001b[0;36m<module>\u001b[1;34m()\u001b[0m\n\u001b[0;32m      1\u001b[0m \u001b[1;31m#-Write LateX Table-#\u001b[0m\u001b[1;33m\u001b[0m\u001b[1;33m\u001b[0m\u001b[0m\n\u001b[1;32m----> 2\u001b[1;33m \u001b[0msumm\u001b[0m \u001b[1;33m=\u001b[0m \u001b[0mresult1\u001b[0m\u001b[1;33m.\u001b[0m\u001b[0msummary\u001b[0m\u001b[1;33m(\u001b[0m\u001b[1;33m)\u001b[0m\u001b[1;33m\u001b[0m\u001b[0m\n\u001b[0m",
      "\u001b[1;31mNameError\u001b[0m: name 'result1' is not defined"
     ]
    }
   ],
   "source": [
    "#-Write LateX Table-#\n",
    "summ = result1.summary()\n"
   ]
  },
  {
   "cell_type": "code",
   "execution_count": null,
   "metadata": {
    "collapsed": false
   },
   "outputs": [],
   "source": [
    "#-Write LatexTable to File-#\n",
    "with open(\"./model1_result_summary.tex\", 'w') as f:\n",
    "    f.write(summ.as_latex())"
   ]
  },
  {
   "cell_type": "markdown",
   "metadata": {},
   "source": [
    "Estimate the Model with some additional explanatory variables"
   ]
  },
  {
   "cell_type": "code",
   "execution_count": null,
   "metadata": {
    "collapsed": false
   },
   "outputs": [],
   "source": [
    "#-Model with additional Explanatory Variables-#\n",
    "model2 = smf.ols(\"log(value) ~ log(egdp) + log(igdp) + log(dist)+\\\n",
    "                  contig + comlang_off + colony + ell + ill\", data)\n",
    "result2 = model2.fit()\n",
    "result2 = result2.get_robustcov_results()\n",
    "print(result2.summary())"
   ]
  },
  {
   "cell_type": "markdown",
   "metadata": {},
   "source": [
    "Estimating the model with GDPPC instead of GDP"
   ]
  },
  {
   "cell_type": "markdown",
   "metadata": {},
   "source": [
    "Plot\n",
    "----\n",
    "\n",
    "A plot of components of the basic model"
   ]
  },
  {
   "cell_type": "code",
   "execution_count": null,
   "metadata": {
    "collapsed": false,
    "scrolled": false
   },
   "outputs": [],
   "source": [
    "import matplotlib.pyplot as plt\n",
    "import statsmodels.api as sm\n",
    "fig = plt.figure(figsize=(12,8))\n",
    "fig = sm.graphics.plot_partregress_grid(result1, fig=fig)"
   ]
  },
  {
   "cell_type": "code",
   "execution_count": null,
   "metadata": {
    "collapsed": false
   },
   "outputs": [],
   "source": [
    "import matplotlib.pyplot as plt\n",
    "import statsmodels.api as sm\n",
    "fig = plt.figure(figsize=(12,18))\n",
    "fig = sm.graphics.plot_partregress_grid(result2, fig=fig)"
   ]
  },
  {
   "cell_type": "markdown",
   "metadata": {},
   "source": [
    "Additional Specifications\n",
    "-----------------------------\n",
    "\n",
    "- model1b includes population size of exporter and importer\n",
    "- model3 uses gdppc in place of gdp"
   ]
  },
  {
   "cell_type": "code",
   "execution_count": null,
   "metadata": {
    "collapsed": false
   },
   "outputs": [],
   "source": [
    "model1b = smf.ols(\"log(value) ~ log(egdp) + log(epop) + log(igdp) + log(ipop) + log(dist)\", data)\n",
    "result1b = model1b.fit()\n",
    "result1b = result1b.get_robustcov_results()\n",
    "print(result1b.summary())"
   ]
  },
  {
   "cell_type": "code",
   "execution_count": null,
   "metadata": {
    "collapsed": false
   },
   "outputs": [],
   "source": [
    "#-Model with additional Explanatory Variables-#\n",
    "model3 = smf.ols(\"log(value) ~ log(egdppc) + log(igdppc) + log(dist)+\\\n",
    "                  contig + comlang_off + colony + ell + ill\", data)\n",
    "result3 = model3.fit()\n",
    "result3 = result3.get_robustcov_results()\n",
    "print(result3.summary())"
   ]
  },
  {
   "cell_type": "code",
   "execution_count": null,
   "metadata": {
    "collapsed": true
   },
   "outputs": [],
   "source": []
  }
 ],
 "metadata": {
  "kernelspec": {
   "display_name": "Python 2",
   "language": "python",
   "name": "python2"
  },
  "language_info": {
   "codemirror_mode": {
    "name": "ipython",
    "version": 2
   },
   "file_extension": ".py",
   "mimetype": "text/x-python",
   "name": "python",
   "nbconvert_exporter": "python",
   "pygments_lexer": "ipython2",
   "version": "2.7.10"
  }
 },
 "nbformat": 4,
 "nbformat_minor": 0
}
