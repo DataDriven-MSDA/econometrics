{
 "cells": [
  {
   "cell_type": "code",
   "execution_count": 1,
   "metadata": {
    "collapsed": true
   },
   "outputs": [],
   "source": [
    "import pandas as pd\n",
    "import dask.dataframe as dd"
   ]
  },
  {
   "cell_type": "markdown",
   "metadata": {},
   "source": [
    "Load Trade Data\n",
    "------------------"
   ]
  },
  {
   "cell_type": "code",
   "execution_count": 2,
   "metadata": {
    "collapsed": true
   },
   "outputs": [],
   "source": [
    "iter_csv = pd.read_csv('year_origin_destination_sitc_rev2.tsv', sep='\\t', iterator=True, chunksize=100000)\n",
    "trade = pd.concat([chunk[chunk['year'] == 2013] for chunk in iter_csv])\n",
    "trade = trade[['year','origin','destination','export_val','import_val']].groupby([\"year\",\"origin\",\"destination\"]).sum()\n",
    "#-Correct Country Codes-#\n",
    "trade = trade.reset_index()\n",
    "trade.origin = trade.origin.apply(lambda x: x.upper())\n",
    "trade.destination = trade.destination.apply(lambda x: x.upper())"
   ]
  },
  {
   "cell_type": "code",
   "execution_count": 3,
   "metadata": {
    "collapsed": true
   },
   "outputs": [],
   "source": [
    "#-Exporter and Importer Reports-#\n",
    "data = trade.copy()\n",
    "ex = data[[\"year\",\"origin\",\"destination\",\"export_val\"]].rename(columns={'export_val':'value','origin':'eiso3c','destination':'iiso3c'})\n",
    "im = data[[\"year\",\"origin\",\"destination\",\"import_val\"]].rename(columns={'import_val':'value','origin':'iiso3c','destination':'eiso3c'})"
   ]
  },
  {
   "cell_type": "markdown",
   "metadata": {},
   "source": [
    "This demonstrates the availability of data. \n",
    "Trade between Ireland (IRL) and Iran (IRN) is captured predominantly from Ireland's reporting of exports and imports"
   ]
  },
  {
   "cell_type": "code",
   "execution_count": 17,
   "metadata": {
    "collapsed": false
   },
   "outputs": [
    {
     "data": {
      "text/html": [
       "<div>\n",
       "<table border=\"1\" class=\"dataframe\">\n",
       "  <thead>\n",
       "    <tr style=\"text-align: right;\">\n",
       "      <th></th>\n",
       "      <th>year</th>\n",
       "      <th>origin</th>\n",
       "      <th>destination</th>\n",
       "      <th>export_val</th>\n",
       "      <th>import_val</th>\n",
       "    </tr>\n",
       "  </thead>\n",
       "  <tbody>\n",
       "  </tbody>\n",
       "</table>\n",
       "</div>"
      ],
      "text/plain": [
       "Empty DataFrame\n",
       "Columns: [year, origin, destination, export_val, import_val]\n",
       "Index: []"
      ]
     },
     "execution_count": 17,
     "metadata": {},
     "output_type": "execute_result"
    }
   ],
   "source": [
    "trade.ix[(trade.origin == \"IRN\") & (trade.destination == \"IRL\")]"
   ]
  },
  {
   "cell_type": "code",
   "execution_count": 18,
   "metadata": {
    "collapsed": false
   },
   "outputs": [
    {
     "data": {
      "text/html": [
       "<div>\n",
       "<table border=\"1\" class=\"dataframe\">\n",
       "  <thead>\n",
       "    <tr style=\"text-align: right;\">\n",
       "      <th></th>\n",
       "      <th>year</th>\n",
       "      <th>origin</th>\n",
       "      <th>destination</th>\n",
       "      <th>export_val</th>\n",
       "      <th>import_val</th>\n",
       "    </tr>\n",
       "  </thead>\n",
       "  <tbody>\n",
       "    <tr>\n",
       "      <th>11372</th>\n",
       "      <td>2013</td>\n",
       "      <td>IRL</td>\n",
       "      <td>IRN</td>\n",
       "      <td>75175445</td>\n",
       "      <td>1302978</td>\n",
       "    </tr>\n",
       "  </tbody>\n",
       "</table>\n",
       "</div>"
      ],
      "text/plain": [
       "       year origin destination  export_val  import_val\n",
       "11372  2013    IRL         IRN    75175445     1302978"
      ]
     },
     "execution_count": 18,
     "metadata": {},
     "output_type": "execute_result"
    }
   ],
   "source": [
    "trade.ix[(trade.origin == \"IRL\") & (trade.destination == \"IRN\")]"
   ]
  },
  {
   "cell_type": "markdown",
   "metadata": {},
   "source": [
    "Using Importer reports only sometimes excludes some trade flows. \n",
    "\n",
    "Exporter Reports"
   ]
  },
  {
   "cell_type": "code",
   "execution_count": 12,
   "metadata": {
    "collapsed": false
   },
   "outputs": [
    {
     "data": {
      "text/html": [
       "<div>\n",
       "<table border=\"1\" class=\"dataframe\">\n",
       "  <thead>\n",
       "    <tr style=\"text-align: right;\">\n",
       "      <th></th>\n",
       "      <th>year</th>\n",
       "      <th>eiso3c</th>\n",
       "      <th>iiso3c</th>\n",
       "      <th>value</th>\n",
       "    </tr>\n",
       "  </thead>\n",
       "  <tbody>\n",
       "  </tbody>\n",
       "</table>\n",
       "</div>"
      ],
      "text/plain": [
       "Empty DataFrame\n",
       "Columns: [year, eiso3c, iiso3c, value]\n",
       "Index: []"
      ]
     },
     "execution_count": 12,
     "metadata": {},
     "output_type": "execute_result"
    }
   ],
   "source": [
    "ex[(ex.eiso3c == \"IRN\") & (ex.iiso3c == \"IRL\")]"
   ]
  },
  {
   "cell_type": "code",
   "execution_count": 13,
   "metadata": {
    "collapsed": false
   },
   "outputs": [
    {
     "data": {
      "text/html": [
       "<div>\n",
       "<table border=\"1\" class=\"dataframe\">\n",
       "  <thead>\n",
       "    <tr style=\"text-align: right;\">\n",
       "      <th></th>\n",
       "      <th>year</th>\n",
       "      <th>eiso3c</th>\n",
       "      <th>iiso3c</th>\n",
       "      <th>value</th>\n",
       "    </tr>\n",
       "  </thead>\n",
       "  <tbody>\n",
       "    <tr>\n",
       "      <th>11372</th>\n",
       "      <td>2013</td>\n",
       "      <td>IRL</td>\n",
       "      <td>IRN</td>\n",
       "      <td>75175445</td>\n",
       "    </tr>\n",
       "  </tbody>\n",
       "</table>\n",
       "</div>"
      ],
      "text/plain": [
       "       year eiso3c iiso3c     value\n",
       "11372  2013    IRL    IRN  75175445"
      ]
     },
     "execution_count": 13,
     "metadata": {},
     "output_type": "execute_result"
    }
   ],
   "source": [
    "ex[(ex.eiso3c == \"IRL\") & (ex.iiso3c == \"IRN\")]"
   ]
  },
  {
   "cell_type": "markdown",
   "metadata": {},
   "source": [
    "Importer Reports"
   ]
  },
  {
   "cell_type": "code",
   "execution_count": 10,
   "metadata": {
    "collapsed": false
   },
   "outputs": [
    {
     "data": {
      "text/html": [
       "<div>\n",
       "<table border=\"1\" class=\"dataframe\">\n",
       "  <thead>\n",
       "    <tr style=\"text-align: right;\">\n",
       "      <th></th>\n",
       "      <th>year</th>\n",
       "      <th>iiso3c</th>\n",
       "      <th>eiso3c</th>\n",
       "      <th>value</th>\n",
       "    </tr>\n",
       "  </thead>\n",
       "  <tbody>\n",
       "    <tr>\n",
       "      <th>11372</th>\n",
       "      <td>2013</td>\n",
       "      <td>IRL</td>\n",
       "      <td>IRN</td>\n",
       "      <td>1302978</td>\n",
       "    </tr>\n",
       "  </tbody>\n",
       "</table>\n",
       "</div>"
      ],
      "text/plain": [
       "       year iiso3c eiso3c    value\n",
       "11372  2013    IRL    IRN  1302978"
      ]
     },
     "execution_count": 10,
     "metadata": {},
     "output_type": "execute_result"
    }
   ],
   "source": [
    "im.ix[(im.eiso3c == \"IRN\") & (im.iiso3c == \"IRL\")]"
   ]
  },
  {
   "cell_type": "code",
   "execution_count": 11,
   "metadata": {
    "collapsed": false
   },
   "outputs": [
    {
     "data": {
      "text/html": [
       "<div>\n",
       "<table border=\"1\" class=\"dataframe\">\n",
       "  <thead>\n",
       "    <tr style=\"text-align: right;\">\n",
       "      <th></th>\n",
       "      <th>year</th>\n",
       "      <th>iiso3c</th>\n",
       "      <th>eiso3c</th>\n",
       "      <th>value</th>\n",
       "    </tr>\n",
       "  </thead>\n",
       "  <tbody>\n",
       "  </tbody>\n",
       "</table>\n",
       "</div>"
      ],
      "text/plain": [
       "Empty DataFrame\n",
       "Columns: [year, iiso3c, eiso3c, value]\n",
       "Index: []"
      ]
     },
     "execution_count": 11,
     "metadata": {},
     "output_type": "execute_result"
    }
   ],
   "source": [
    "im.ix[(im.eiso3c == \"IRL\") & (im.iiso3c == \"IRN\")]"
   ]
  },
  {
   "cell_type": "markdown",
   "metadata": {},
   "source": [
    "Compute the rest of the data"
   ]
  },
  {
   "cell_type": "code",
   "execution_count": 15,
   "metadata": {
    "collapsed": false
   },
   "outputs": [
    {
     "name": "stdout",
     "output_type": "stream",
     "text": [
      "(50176, 14)\n",
      "(50176, 9)\n"
     ]
    }
   ],
   "source": [
    "#-Merge Importer Reported Data Together-#\n",
    "dataset = im.copy()\n",
    "#-Bilateral Relationships-#\n",
    "dist = pd.read_excel('dist_cepii.xls')\n",
    "bilat_attrs = [\"iso_o\",\"iso_d\",\"contig\",\"comlang_off\",\"colony\",\"dist\",\"distcap\",\"distw\",\"distwces\"]\n",
    "print dist.shape\n",
    "dist = dist[bilat_attrs].drop_duplicates()\n",
    "print dist.shape\n",
    "dataset = dataset.merge(dist[bilat_attrs], left_on=[\"eiso3c\",\"iiso3c\"], right_on=[\"iso_o\",\"iso_d\"], how=\"inner\")\n",
    "for item in [\"iso_o\",\"iso_d\"]:\n",
    "\tdel dataset[item]"
   ]
  },
  {
   "cell_type": "markdown",
   "metadata": {},
   "source": [
    "Some items dropped from geo file due to the presence of duplicate rows"
   ]
  },
  {
   "cell_type": "code",
   "execution_count": 19,
   "metadata": {
    "collapsed": false
   },
   "outputs": [
    {
     "name": "stdout",
     "output_type": "stream",
     "text": [
      "(238, 34)\n",
      "(225, 2)\n"
     ]
    }
   ],
   "source": [
    "#-Country Attributes-#\n",
    "geo = pd.read_excel('geo_cepii.xls')\n",
    "cntry_attrs = [\"iso3\",\"landlocked\"]\n",
    "print geo.shape\n",
    "geo = geo[cntry_attrs].drop_duplicates() \t\t#This is required as there are multiple entries for some countries such as AUS\n",
    "print geo.shape\n",
    "dataset = dataset.merge(geo[cntry_attrs], left_on=\"eiso3c\", right_on=\"iso3\", how=\"inner\")\n",
    "del dataset[\"iso3\"]\n",
    "dataset.rename(columns={'landlocked':'ell'}, inplace=True)\n",
    "dataset = dataset.merge(geo[cntry_attrs], left_on=\"iiso3c\", right_on=\"iso3\", how=\"inner\")\n",
    "del dataset[\"iso3\"]\n",
    "dataset.rename(columns={'landlocked':'ill',}, inplace=True)"
   ]
  },
  {
   "cell_type": "code",
   "execution_count": 20,
   "metadata": {
    "collapsed": true
   },
   "outputs": [],
   "source": [
    "#-WDI-#\n",
    "wdi = pd.read_csv('WDI_Data.csv')\n",
    "idx = [\"Country Code\",\"Indicator Code\"]\n",
    "years = [\"2013\"]\n",
    "wdi = wdi[idx+years]\n",
    "wdi.columns = [\"iso3c\",\"code\",\"value\"]\n",
    "wdi = wdi.set_index([\"iso3c\",\"code\"]).unstack(\"code\")\n",
    "wdi.columns = wdi.columns.droplevel()\n",
    "# NY.GDP.MKTP.KD = GDP (constant 2005 US$)\n",
    "# NY.GDP.PCAP.KD = GDP per capita (constant 2005 US$)\n",
    "codes = ['NY.GDP.MKTP.KD','NY.GDP.PCAP.KD', 'SP.POP.TOTL']\n",
    "wdi_data = wdi[codes]\n",
    "wdi_data.columns = ['egdp', 'egdppc','epop']\n",
    "wdi_data = wdi_data.reset_index()\n",
    "dataset = dataset.merge(wdi_data, left_on=\"eiso3c\", right_on=\"iso3c\")\n",
    "del dataset['iso3c']\n",
    "wdi_data = wdi[codes]\n",
    "wdi_data.columns = ['igdp', 'igdppc','ipop']\n",
    "wdi_data = wdi_data.reset_index()\n",
    "dataset = dataset.merge(wdi_data, left_on=\"iiso3c\", right_on=\"iso3c\")\n",
    "del dataset['iso3c']"
   ]
  },
  {
   "cell_type": "code",
   "execution_count": 22,
   "metadata": {
    "collapsed": false
   },
   "outputs": [
    {
     "data": {
      "text/plain": [
       "(22695, 19)"
      ]
     },
     "execution_count": 22,
     "metadata": {},
     "output_type": "execute_result"
    }
   ],
   "source": [
    "dataset.shape"
   ]
  },
  {
   "cell_type": "code",
   "execution_count": 23,
   "metadata": {
    "collapsed": false
   },
   "outputs": [
    {
     "data": {
      "text/html": [
       "<div>\n",
       "<table border=\"1\" class=\"dataframe\">\n",
       "  <thead>\n",
       "    <tr style=\"text-align: right;\">\n",
       "      <th></th>\n",
       "      <th>year</th>\n",
       "      <th>iiso3c</th>\n",
       "      <th>eiso3c</th>\n",
       "      <th>value</th>\n",
       "      <th>contig</th>\n",
       "      <th>comlang_off</th>\n",
       "      <th>colony</th>\n",
       "      <th>dist</th>\n",
       "      <th>distcap</th>\n",
       "      <th>distw</th>\n",
       "      <th>distwces</th>\n",
       "      <th>ell</th>\n",
       "      <th>ill</th>\n",
       "      <th>egdp</th>\n",
       "      <th>egdppc</th>\n",
       "      <th>epop</th>\n",
       "      <th>igdp</th>\n",
       "      <th>igdppc</th>\n",
       "      <th>ipop</th>\n",
       "    </tr>\n",
       "  </thead>\n",
       "  <tbody>\n",
       "    <tr>\n",
       "      <th>0</th>\n",
       "      <td>2013</td>\n",
       "      <td>ABW</td>\n",
       "      <td>BEL</td>\n",
       "      <td>774353</td>\n",
       "      <td>0</td>\n",
       "      <td>1</td>\n",
       "      <td>0</td>\n",
       "      <td>7847.070</td>\n",
       "      <td>7847.070</td>\n",
       "      <td>7843.26</td>\n",
       "      <td>7843.01</td>\n",
       "      <td>0</td>\n",
       "      <td>0</td>\n",
       "      <td>4.204710e+11</td>\n",
       "      <td>37599.735498</td>\n",
       "      <td>11182817</td>\n",
       "      <td>NaN</td>\n",
       "      <td>NaN</td>\n",
       "      <td>102921</td>\n",
       "    </tr>\n",
       "    <tr>\n",
       "      <th>1</th>\n",
       "      <td>2013</td>\n",
       "      <td>ABW</td>\n",
       "      <td>BHS</td>\n",
       "      <td>4712537</td>\n",
       "      <td>0</td>\n",
       "      <td>0</td>\n",
       "      <td>0</td>\n",
       "      <td>1588.515</td>\n",
       "      <td>1588.515</td>\n",
       "      <td>1634.52</td>\n",
       "      <td>1628.14</td>\n",
       "      <td>0</td>\n",
       "      <td>0</td>\n",
       "      <td>7.835118e+09</td>\n",
       "      <td>20736.547344</td>\n",
       "      <td>377841</td>\n",
       "      <td>NaN</td>\n",
       "      <td>NaN</td>\n",
       "      <td>102921</td>\n",
       "    </tr>\n",
       "    <tr>\n",
       "      <th>2</th>\n",
       "      <td>2013</td>\n",
       "      <td>ABW</td>\n",
       "      <td>CHE</td>\n",
       "      <td>17812626</td>\n",
       "      <td>0</td>\n",
       "      <td>0</td>\n",
       "      <td>0</td>\n",
       "      <td>8056.332</td>\n",
       "      <td>8056.332</td>\n",
       "      <td>8074.21</td>\n",
       "      <td>8073.51</td>\n",
       "      <td>1</td>\n",
       "      <td>0</td>\n",
       "      <td>4.772463e+11</td>\n",
       "      <td>58996.896141</td>\n",
       "      <td>8089346</td>\n",
       "      <td>NaN</td>\n",
       "      <td>NaN</td>\n",
       "      <td>102921</td>\n",
       "    </tr>\n",
       "    <tr>\n",
       "      <th>3</th>\n",
       "      <td>2013</td>\n",
       "      <td>ABW</td>\n",
       "      <td>CHN</td>\n",
       "      <td>25319168</td>\n",
       "      <td>0</td>\n",
       "      <td>0</td>\n",
       "      <td>0</td>\n",
       "      <td>14155.350</td>\n",
       "      <td>14155.350</td>\n",
       "      <td>14590.9</td>\n",
       "      <td>14560.3</td>\n",
       "      <td>0</td>\n",
       "      <td>0</td>\n",
       "      <td>4.912954e+12</td>\n",
       "      <td>3619.439108</td>\n",
       "      <td>1357380000</td>\n",
       "      <td>NaN</td>\n",
       "      <td>NaN</td>\n",
       "      <td>102921</td>\n",
       "    </tr>\n",
       "    <tr>\n",
       "      <th>4</th>\n",
       "      <td>2013</td>\n",
       "      <td>ABW</td>\n",
       "      <td>COL</td>\n",
       "      <td>22160086</td>\n",
       "      <td>0</td>\n",
       "      <td>1</td>\n",
       "      <td>0</td>\n",
       "      <td>1036.634</td>\n",
       "      <td>1036.634</td>\n",
       "      <td>929.589</td>\n",
       "      <td>861.245</td>\n",
       "      <td>0</td>\n",
       "      <td>0</td>\n",
       "      <td>2.129079e+11</td>\n",
       "      <td>4497.196936</td>\n",
       "      <td>47342363</td>\n",
       "      <td>NaN</td>\n",
       "      <td>NaN</td>\n",
       "      <td>102921</td>\n",
       "    </tr>\n",
       "  </tbody>\n",
       "</table>\n",
       "</div>"
      ],
      "text/plain": [
       "   year iiso3c eiso3c     value  contig  comlang_off  colony       dist  \\\n",
       "0  2013    ABW    BEL    774353       0            1       0   7847.070   \n",
       "1  2013    ABW    BHS   4712537       0            0       0   1588.515   \n",
       "2  2013    ABW    CHE  17812626       0            0       0   8056.332   \n",
       "3  2013    ABW    CHN  25319168       0            0       0  14155.350   \n",
       "4  2013    ABW    COL  22160086       0            1       0   1036.634   \n",
       "\n",
       "     distcap    distw distwces  ell  ill          egdp        egdppc  \\\n",
       "0   7847.070  7843.26  7843.01    0    0  4.204710e+11  37599.735498   \n",
       "1   1588.515  1634.52  1628.14    0    0  7.835118e+09  20736.547344   \n",
       "2   8056.332  8074.21  8073.51    1    0  4.772463e+11  58996.896141   \n",
       "3  14155.350  14590.9  14560.3    0    0  4.912954e+12   3619.439108   \n",
       "4   1036.634  929.589  861.245    0    0  2.129079e+11   4497.196936   \n",
       "\n",
       "         epop  igdp  igdppc    ipop  \n",
       "0    11182817   NaN     NaN  102921  \n",
       "1      377841   NaN     NaN  102921  \n",
       "2     8089346   NaN     NaN  102921  \n",
       "3  1357380000   NaN     NaN  102921  \n",
       "4    47342363   NaN     NaN  102921  "
      ]
     },
     "execution_count": 23,
     "metadata": {},
     "output_type": "execute_result"
    }
   ],
   "source": [
    "dataset.head()"
   ]
  },
  {
   "cell_type": "code",
   "execution_count": 26,
   "metadata": {
    "collapsed": false
   },
   "outputs": [
    {
     "data": {
      "text/plain": [
       "False"
      ]
     },
     "execution_count": 26,
     "metadata": {},
     "output_type": "execute_result"
    }
   ],
   "source": [
    "dataset.duplicated().any()"
   ]
  },
  {
   "cell_type": "code",
   "execution_count": 27,
   "metadata": {
    "collapsed": false
   },
   "outputs": [
    {
     "data": {
      "text/html": [
       "<div>\n",
       "<table border=\"1\" class=\"dataframe\">\n",
       "  <thead>\n",
       "    <tr style=\"text-align: right;\">\n",
       "      <th></th>\n",
       "      <th>year</th>\n",
       "      <th>iiso3c</th>\n",
       "      <th>eiso3c</th>\n",
       "      <th>value</th>\n",
       "      <th>contig</th>\n",
       "      <th>comlang_off</th>\n",
       "      <th>colony</th>\n",
       "      <th>dist</th>\n",
       "      <th>distcap</th>\n",
       "      <th>distw</th>\n",
       "      <th>distwces</th>\n",
       "      <th>ell</th>\n",
       "      <th>ill</th>\n",
       "      <th>egdp</th>\n",
       "      <th>egdppc</th>\n",
       "      <th>epop</th>\n",
       "      <th>igdp</th>\n",
       "      <th>igdppc</th>\n",
       "      <th>ipop</th>\n",
       "    </tr>\n",
       "  </thead>\n",
       "  <tbody>\n",
       "    <tr>\n",
       "      <th>0</th>\n",
       "      <td>2013</td>\n",
       "      <td>ABW</td>\n",
       "      <td>BEL</td>\n",
       "      <td>774353</td>\n",
       "      <td>0</td>\n",
       "      <td>1</td>\n",
       "      <td>0</td>\n",
       "      <td>7847.070</td>\n",
       "      <td>7847.070</td>\n",
       "      <td>7843.26</td>\n",
       "      <td>7843.01</td>\n",
       "      <td>0</td>\n",
       "      <td>0</td>\n",
       "      <td>4.204710e+11</td>\n",
       "      <td>37599.735498</td>\n",
       "      <td>11182817</td>\n",
       "      <td>NaN</td>\n",
       "      <td>NaN</td>\n",
       "      <td>102921</td>\n",
       "    </tr>\n",
       "    <tr>\n",
       "      <th>1</th>\n",
       "      <td>2013</td>\n",
       "      <td>ABW</td>\n",
       "      <td>BHS</td>\n",
       "      <td>4712537</td>\n",
       "      <td>0</td>\n",
       "      <td>0</td>\n",
       "      <td>0</td>\n",
       "      <td>1588.515</td>\n",
       "      <td>1588.515</td>\n",
       "      <td>1634.52</td>\n",
       "      <td>1628.14</td>\n",
       "      <td>0</td>\n",
       "      <td>0</td>\n",
       "      <td>7.835118e+09</td>\n",
       "      <td>20736.547344</td>\n",
       "      <td>377841</td>\n",
       "      <td>NaN</td>\n",
       "      <td>NaN</td>\n",
       "      <td>102921</td>\n",
       "    </tr>\n",
       "    <tr>\n",
       "      <th>2</th>\n",
       "      <td>2013</td>\n",
       "      <td>ABW</td>\n",
       "      <td>CHE</td>\n",
       "      <td>17812626</td>\n",
       "      <td>0</td>\n",
       "      <td>0</td>\n",
       "      <td>0</td>\n",
       "      <td>8056.332</td>\n",
       "      <td>8056.332</td>\n",
       "      <td>8074.21</td>\n",
       "      <td>8073.51</td>\n",
       "      <td>1</td>\n",
       "      <td>0</td>\n",
       "      <td>4.772463e+11</td>\n",
       "      <td>58996.896141</td>\n",
       "      <td>8089346</td>\n",
       "      <td>NaN</td>\n",
       "      <td>NaN</td>\n",
       "      <td>102921</td>\n",
       "    </tr>\n",
       "    <tr>\n",
       "      <th>3</th>\n",
       "      <td>2013</td>\n",
       "      <td>ABW</td>\n",
       "      <td>CHN</td>\n",
       "      <td>25319168</td>\n",
       "      <td>0</td>\n",
       "      <td>0</td>\n",
       "      <td>0</td>\n",
       "      <td>14155.350</td>\n",
       "      <td>14155.350</td>\n",
       "      <td>14590.9</td>\n",
       "      <td>14560.3</td>\n",
       "      <td>0</td>\n",
       "      <td>0</td>\n",
       "      <td>4.912954e+12</td>\n",
       "      <td>3619.439108</td>\n",
       "      <td>1357380000</td>\n",
       "      <td>NaN</td>\n",
       "      <td>NaN</td>\n",
       "      <td>102921</td>\n",
       "    </tr>\n",
       "    <tr>\n",
       "      <th>4</th>\n",
       "      <td>2013</td>\n",
       "      <td>ABW</td>\n",
       "      <td>COL</td>\n",
       "      <td>22160086</td>\n",
       "      <td>0</td>\n",
       "      <td>1</td>\n",
       "      <td>0</td>\n",
       "      <td>1036.634</td>\n",
       "      <td>1036.634</td>\n",
       "      <td>929.589</td>\n",
       "      <td>861.245</td>\n",
       "      <td>0</td>\n",
       "      <td>0</td>\n",
       "      <td>2.129079e+11</td>\n",
       "      <td>4497.196936</td>\n",
       "      <td>47342363</td>\n",
       "      <td>NaN</td>\n",
       "      <td>NaN</td>\n",
       "      <td>102921</td>\n",
       "    </tr>\n",
       "  </tbody>\n",
       "</table>\n",
       "</div>"
      ],
      "text/plain": [
       "   year iiso3c eiso3c     value  contig  comlang_off  colony       dist  \\\n",
       "0  2013    ABW    BEL    774353       0            1       0   7847.070   \n",
       "1  2013    ABW    BHS   4712537       0            0       0   1588.515   \n",
       "2  2013    ABW    CHE  17812626       0            0       0   8056.332   \n",
       "3  2013    ABW    CHN  25319168       0            0       0  14155.350   \n",
       "4  2013    ABW    COL  22160086       0            1       0   1036.634   \n",
       "\n",
       "     distcap    distw distwces  ell  ill          egdp        egdppc  \\\n",
       "0   7847.070  7843.26  7843.01    0    0  4.204710e+11  37599.735498   \n",
       "1   1588.515  1634.52  1628.14    0    0  7.835118e+09  20736.547344   \n",
       "2   8056.332  8074.21  8073.51    1    0  4.772463e+11  58996.896141   \n",
       "3  14155.350  14590.9  14560.3    0    0  4.912954e+12   3619.439108   \n",
       "4   1036.634  929.589  861.245    0    0  2.129079e+11   4497.196936   \n",
       "\n",
       "         epop  igdp  igdppc    ipop  \n",
       "0    11182817   NaN     NaN  102921  \n",
       "1      377841   NaN     NaN  102921  \n",
       "2     8089346   NaN     NaN  102921  \n",
       "3  1357380000   NaN     NaN  102921  \n",
       "4    47342363   NaN     NaN  102921  "
      ]
     },
     "execution_count": 27,
     "metadata": {},
     "output_type": "execute_result"
    }
   ],
   "source": [
    "dataset.head()"
   ]
  },
  {
   "cell_type": "code",
   "execution_count": 29,
   "metadata": {
    "collapsed": false
   },
   "outputs": [
    {
     "data": {
      "text/html": [
       "<div>\n",
       "<table border=\"1\" class=\"dataframe\">\n",
       "  <thead>\n",
       "    <tr style=\"text-align: right;\">\n",
       "      <th></th>\n",
       "      <th>year</th>\n",
       "      <th>iiso3c</th>\n",
       "      <th>eiso3c</th>\n",
       "      <th>value</th>\n",
       "      <th>contig</th>\n",
       "      <th>comlang_off</th>\n",
       "      <th>colony</th>\n",
       "      <th>dist</th>\n",
       "      <th>distcap</th>\n",
       "      <th>distw</th>\n",
       "      <th>distwces</th>\n",
       "      <th>ell</th>\n",
       "      <th>ill</th>\n",
       "      <th>egdp</th>\n",
       "      <th>egdppc</th>\n",
       "      <th>epop</th>\n",
       "      <th>igdp</th>\n",
       "      <th>igdppc</th>\n",
       "      <th>ipop</th>\n",
       "    </tr>\n",
       "  </thead>\n",
       "  <tbody>\n",
       "    <tr>\n",
       "      <th>632</th>\n",
       "      <td>2013</td>\n",
       "      <td>AUS</td>\n",
       "      <td>USA</td>\n",
       "      <td>23233683745</td>\n",
       "      <td>0</td>\n",
       "      <td>1</td>\n",
       "      <td>0</td>\n",
       "      <td>16008.79</td>\n",
       "      <td>15961.95</td>\n",
       "      <td>14802</td>\n",
       "      <td>14589.2</td>\n",
       "      <td>0</td>\n",
       "      <td>0</td>\n",
       "      <td>1.445151e+13</td>\n",
       "      <td>45660.733764</td>\n",
       "      <td>316497531</td>\n",
       "      <td>8.671523e+11</td>\n",
       "      <td>37497.070617</td>\n",
       "      <td>23125868</td>\n",
       "    </tr>\n",
       "  </tbody>\n",
       "</table>\n",
       "</div>"
      ],
      "text/plain": [
       "     year iiso3c eiso3c        value  contig  comlang_off  colony      dist  \\\n",
       "632  2013    AUS    USA  23233683745       0            1       0  16008.79   \n",
       "\n",
       "      distcap  distw distwces  ell  ill          egdp        egdppc  \\\n",
       "632  15961.95  14802  14589.2    0    0  1.445151e+13  45660.733764   \n",
       "\n",
       "          epop          igdp        igdppc      ipop  \n",
       "632  316497531  8.671523e+11  37497.070617  23125868  "
      ]
     },
     "execution_count": 29,
     "metadata": {},
     "output_type": "execute_result"
    }
   ],
   "source": [
    "dataset[(dataset.iiso3c == \"AUS\")&(dataset.eiso3c==\"USA\")]"
   ]
  },
  {
   "cell_type": "code",
   "execution_count": null,
   "metadata": {
    "collapsed": true
   },
   "outputs": [],
   "source": []
  }
 ],
 "metadata": {
  "kernelspec": {
   "display_name": "Python 2",
   "language": "python",
   "name": "python2"
  },
  "language_info": {
   "codemirror_mode": {
    "name": "ipython",
    "version": 2
   },
   "file_extension": ".py",
   "mimetype": "text/x-python",
   "name": "python",
   "nbconvert_exporter": "python",
   "pygments_lexer": "ipython2",
   "version": "2.7.10"
  }
 },
 "nbformat": 4,
 "nbformat_minor": 0
}
