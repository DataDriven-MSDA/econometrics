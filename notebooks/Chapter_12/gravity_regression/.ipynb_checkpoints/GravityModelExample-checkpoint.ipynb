{
 "cells": [
  {
   "cell_type": "markdown",
   "metadata": {},
   "source": [
    "The Gravity Model\n",
    "===========\n",
    "\n",
    "A linear regression example for Econometric Theory\n",
    "------------------------------------------------------------\n",
    "\n",
    "\n",
    "\n",
    "The gravity model relates international trade flows\n",
    "    between country $\\ell$ and country $n$ via the \n",
    "    equation \n",
    "    \n",
    "$$\n",
    "    T_{\\ell n} = \n",
    "    \\frac{\\lambda \\xi_{\\ell n} G_\\ell^{\\alpha} G_n^\\beta}\n",
    "    {D_{\\ell n}^{\\gamma}}\n",
    "$$\n",
    "\n",
    "Here $T_{\\ell n}$ is exports from country $\\ell$ to country $n$, $\\lambda$ is a constant term, $\\xi_{\\ell n}$ is a\n",
    "    shock, $G_\\ell$ and $G_n$ are GDP in country $\\ell$  and $n$ respectively,\n",
    "    and $D_{\\ell n}$ is distance between them.  Taking logs gives the\n",
    "    linear model\n",
    "\n",
    "$$\n",
    "    \\ln T_{\\ell n} \n",
    "        = \\ln \\lambda \n",
    "        +  \\alpha \\ln G_\\ell + \\beta \\ln G_n - \\gamma \\ln D_{\\ell n}\n",
    "        + \\ln \\xi_{\\ell n}\n",
    "$$\n",
    "\n",
    "Here our aim is to give a simple example of linear regression based around this example, using Python's [statsmodels](http://statsmodels.sourceforge.net/) and [pandas](http://pandas.pydata.org/).\n",
    "\n",
    "\n",
    "Many thanks to [Matthew McKay](https://github.com/mmcky) for organizing all the data and putting together the first version of this demo.\n",
    "\n",
    "Data\n",
    "-----\n",
    "Trade data is sourced from: http://atlas.media.mit.edu/en/resources/data and uses the SITC rev 2. product level trade dataset. This product level data is aggregated to form a bilateral trade dataset at the country level.\n",
    "\n",
    "Distance and Geography is sourced from CEPII: http://www.cepii.fr/CEPII/en/bdd_modele/presentation.asp?id=6\n",
    "\n",
    "GDP and Population statistics are from the World Development Indicators: http://data.worldbank.org/data-catalog/world-development-indicators"
   ]
  },
  {
   "cell_type": "code",
   "execution_count": 1,
   "metadata": {
    "collapsed": true
   },
   "outputs": [],
   "source": [
    "%matplotlib inline"
   ]
  },
  {
   "cell_type": "code",
   "execution_count": 2,
   "metadata": {
    "collapsed": true
   },
   "outputs": [],
   "source": [
    "import pandas as pd\n",
    "import numpy as np\n",
    "from numpy import log\n",
    "import statsmodels.formula.api as smf"
   ]
  },
  {
   "cell_type": "markdown",
   "metadata": {},
   "source": [
    "Import the data from a ``csv`` data file for the year 2013"
   ]
  },
  {
   "cell_type": "code",
   "execution_count": 3,
   "metadata": {
    "collapsed": true
   },
   "outputs": [],
   "source": [
    "data = pd.read_csv(\"./data/gravity_dataset_2013.csv\")"
   ]
  },
  {
   "cell_type": "markdown",
   "metadata": {},
   "source": [
    "Let's have a look at the first few rows."
   ]
  },
  {
   "cell_type": "code",
   "execution_count": 4,
   "metadata": {
    "collapsed": false
   },
   "outputs": [
    {
     "data": {
      "text/html": [
       "<div>\n",
       "<table border=\"1\" class=\"dataframe\">\n",
       "  <thead>\n",
       "    <tr style=\"text-align: right;\">\n",
       "      <th></th>\n",
       "      <th>year</th>\n",
       "      <th>iiso3c</th>\n",
       "      <th>eiso3c</th>\n",
       "      <th>value</th>\n",
       "      <th>contig</th>\n",
       "      <th>comlang_off</th>\n",
       "      <th>colony</th>\n",
       "      <th>dist</th>\n",
       "      <th>distcap</th>\n",
       "      <th>distw</th>\n",
       "      <th>distwces</th>\n",
       "      <th>ell</th>\n",
       "      <th>ill</th>\n",
       "      <th>egdp</th>\n",
       "      <th>egdppc</th>\n",
       "      <th>epop</th>\n",
       "      <th>igdp</th>\n",
       "      <th>igdppc</th>\n",
       "      <th>ipop</th>\n",
       "    </tr>\n",
       "  </thead>\n",
       "  <tbody>\n",
       "    <tr>\n",
       "      <th>0</th>\n",
       "      <td>2013</td>\n",
       "      <td>ABW</td>\n",
       "      <td>BEL</td>\n",
       "      <td>774353</td>\n",
       "      <td>0</td>\n",
       "      <td>1</td>\n",
       "      <td>0</td>\n",
       "      <td>7847.070</td>\n",
       "      <td>7847.070</td>\n",
       "      <td>7843.255</td>\n",
       "      <td>7843.006</td>\n",
       "      <td>0</td>\n",
       "      <td>0</td>\n",
       "      <td>4.204710e+11</td>\n",
       "      <td>37599.735498</td>\n",
       "      <td>11182817</td>\n",
       "      <td>NaN</td>\n",
       "      <td>NaN</td>\n",
       "      <td>102921</td>\n",
       "    </tr>\n",
       "    <tr>\n",
       "      <th>1</th>\n",
       "      <td>2013</td>\n",
       "      <td>ABW</td>\n",
       "      <td>BHS</td>\n",
       "      <td>4712537</td>\n",
       "      <td>0</td>\n",
       "      <td>0</td>\n",
       "      <td>0</td>\n",
       "      <td>1588.515</td>\n",
       "      <td>1588.515</td>\n",
       "      <td>1634.515</td>\n",
       "      <td>1628.143</td>\n",
       "      <td>0</td>\n",
       "      <td>0</td>\n",
       "      <td>7.835118e+09</td>\n",
       "      <td>20736.547344</td>\n",
       "      <td>377841</td>\n",
       "      <td>NaN</td>\n",
       "      <td>NaN</td>\n",
       "      <td>102921</td>\n",
       "    </tr>\n",
       "    <tr>\n",
       "      <th>2</th>\n",
       "      <td>2013</td>\n",
       "      <td>ABW</td>\n",
       "      <td>CHE</td>\n",
       "      <td>17812626</td>\n",
       "      <td>0</td>\n",
       "      <td>0</td>\n",
       "      <td>0</td>\n",
       "      <td>8056.332</td>\n",
       "      <td>8056.332</td>\n",
       "      <td>8074.21</td>\n",
       "      <td>8073.511</td>\n",
       "      <td>1</td>\n",
       "      <td>0</td>\n",
       "      <td>4.772463e+11</td>\n",
       "      <td>58996.896141</td>\n",
       "      <td>8089346</td>\n",
       "      <td>NaN</td>\n",
       "      <td>NaN</td>\n",
       "      <td>102921</td>\n",
       "    </tr>\n",
       "    <tr>\n",
       "      <th>3</th>\n",
       "      <td>2013</td>\n",
       "      <td>ABW</td>\n",
       "      <td>CHN</td>\n",
       "      <td>25319168</td>\n",
       "      <td>0</td>\n",
       "      <td>0</td>\n",
       "      <td>0</td>\n",
       "      <td>14155.350</td>\n",
       "      <td>14155.350</td>\n",
       "      <td>14590.92</td>\n",
       "      <td>14560.28</td>\n",
       "      <td>0</td>\n",
       "      <td>0</td>\n",
       "      <td>4.912954e+12</td>\n",
       "      <td>3619.439108</td>\n",
       "      <td>1357380000</td>\n",
       "      <td>NaN</td>\n",
       "      <td>NaN</td>\n",
       "      <td>102921</td>\n",
       "    </tr>\n",
       "    <tr>\n",
       "      <th>4</th>\n",
       "      <td>2013</td>\n",
       "      <td>ABW</td>\n",
       "      <td>COL</td>\n",
       "      <td>22160086</td>\n",
       "      <td>0</td>\n",
       "      <td>1</td>\n",
       "      <td>0</td>\n",
       "      <td>1036.634</td>\n",
       "      <td>1036.634</td>\n",
       "      <td>929.5887</td>\n",
       "      <td>861.2452</td>\n",
       "      <td>0</td>\n",
       "      <td>0</td>\n",
       "      <td>2.129079e+11</td>\n",
       "      <td>4497.196936</td>\n",
       "      <td>47342363</td>\n",
       "      <td>NaN</td>\n",
       "      <td>NaN</td>\n",
       "      <td>102921</td>\n",
       "    </tr>\n",
       "  </tbody>\n",
       "</table>\n",
       "</div>"
      ],
      "text/plain": [
       "   year iiso3c eiso3c     value  contig  comlang_off  colony       dist  \\\n",
       "0  2013    ABW    BEL    774353       0            1       0   7847.070   \n",
       "1  2013    ABW    BHS   4712537       0            0       0   1588.515   \n",
       "2  2013    ABW    CHE  17812626       0            0       0   8056.332   \n",
       "3  2013    ABW    CHN  25319168       0            0       0  14155.350   \n",
       "4  2013    ABW    COL  22160086       0            1       0   1036.634   \n",
       "\n",
       "     distcap     distw  distwces  ell  ill          egdp        egdppc  \\\n",
       "0   7847.070  7843.255  7843.006    0    0  4.204710e+11  37599.735498   \n",
       "1   1588.515  1634.515  1628.143    0    0  7.835118e+09  20736.547344   \n",
       "2   8056.332   8074.21  8073.511    1    0  4.772463e+11  58996.896141   \n",
       "3  14155.350  14590.92  14560.28    0    0  4.912954e+12   3619.439108   \n",
       "4   1036.634  929.5887  861.2452    0    0  2.129079e+11   4497.196936   \n",
       "\n",
       "         epop  igdp  igdppc    ipop  \n",
       "0    11182817   NaN     NaN  102921  \n",
       "1      377841   NaN     NaN  102921  \n",
       "2     8089346   NaN     NaN  102921  \n",
       "3  1357380000   NaN     NaN  102921  \n",
       "4    47342363   NaN     NaN  102921  "
      ]
     },
     "execution_count": 4,
     "metadata": {},
     "output_type": "execute_result"
    }
   ],
   "source": [
    "data.head()"
   ]
  },
  {
   "cell_type": "markdown",
   "metadata": {},
   "source": [
    "Description of the data"
   ]
  },
  {
   "cell_type": "code",
   "execution_count": 5,
   "metadata": {
    "collapsed": false
   },
   "outputs": [
    {
     "data": {
      "text/html": [
       "<div>\n",
       "<table border=\"1\" class=\"dataframe\">\n",
       "  <thead>\n",
       "    <tr style=\"text-align: right;\">\n",
       "      <th></th>\n",
       "      <th>year</th>\n",
       "      <th>value</th>\n",
       "      <th>contig</th>\n",
       "      <th>comlang_off</th>\n",
       "      <th>colony</th>\n",
       "      <th>dist</th>\n",
       "      <th>distcap</th>\n",
       "      <th>ell</th>\n",
       "      <th>ill</th>\n",
       "      <th>egdp</th>\n",
       "      <th>egdppc</th>\n",
       "      <th>epop</th>\n",
       "      <th>igdp</th>\n",
       "      <th>igdppc</th>\n",
       "      <th>ipop</th>\n",
       "    </tr>\n",
       "  </thead>\n",
       "  <tbody>\n",
       "    <tr>\n",
       "      <th>count</th>\n",
       "      <td>22695</td>\n",
       "      <td>2.141300e+04</td>\n",
       "      <td>22695.000000</td>\n",
       "      <td>22695.000000</td>\n",
       "      <td>22695.000000</td>\n",
       "      <td>22695.000000</td>\n",
       "      <td>22695.000000</td>\n",
       "      <td>22695.000000</td>\n",
       "      <td>22695.000000</td>\n",
       "      <td>2.140300e+04</td>\n",
       "      <td>21403.000000</td>\n",
       "      <td>2.269500e+04</td>\n",
       "      <td>2.204600e+04</td>\n",
       "      <td>22046.000000</td>\n",
       "      <td>2.269500e+04</td>\n",
       "    </tr>\n",
       "    <tr>\n",
       "      <th>mean</th>\n",
       "      <td>2013</td>\n",
       "      <td>7.365519e+08</td>\n",
       "      <td>0.018771</td>\n",
       "      <td>0.149460</td>\n",
       "      <td>0.015113</td>\n",
       "      <td>7626.396993</td>\n",
       "      <td>7607.736961</td>\n",
       "      <td>0.175017</td>\n",
       "      <td>0.174400</td>\n",
       "      <td>3.681618e+11</td>\n",
       "      <td>11998.090079</td>\n",
       "      <td>4.265514e+07</td>\n",
       "      <td>4.707726e+11</td>\n",
       "      <td>14159.274814</td>\n",
       "      <td>5.194448e+07</td>\n",
       "    </tr>\n",
       "    <tr>\n",
       "      <th>std</th>\n",
       "      <td>0</td>\n",
       "      <td>6.699105e+09</td>\n",
       "      <td>0.135717</td>\n",
       "      <td>0.356549</td>\n",
       "      <td>0.122007</td>\n",
       "      <td>4480.491813</td>\n",
       "      <td>4479.504746</td>\n",
       "      <td>0.379990</td>\n",
       "      <td>0.379461</td>\n",
       "      <td>1.357443e+12</td>\n",
       "      <td>16470.908447</td>\n",
       "      <td>1.522340e+08</td>\n",
       "      <td>1.533534e+12</td>\n",
       "      <td>17685.615815</td>\n",
       "      <td>1.740458e+08</td>\n",
       "    </tr>\n",
       "    <tr>\n",
       "      <th>min</th>\n",
       "      <td>2013</td>\n",
       "      <td>1.000000e+00</td>\n",
       "      <td>0.000000</td>\n",
       "      <td>0.000000</td>\n",
       "      <td>0.000000</td>\n",
       "      <td>8.300385</td>\n",
       "      <td>8.300385</td>\n",
       "      <td>0.000000</td>\n",
       "      <td>0.000000</td>\n",
       "      <td>2.620733e+07</td>\n",
       "      <td>150.744900</td>\n",
       "      <td>9.876000e+03</td>\n",
       "      <td>1.203875e+08</td>\n",
       "      <td>150.744900</td>\n",
       "      <td>2.091900e+04</td>\n",
       "    </tr>\n",
       "    <tr>\n",
       "      <th>25%</th>\n",
       "      <td>2013</td>\n",
       "      <td>7.911600e+04</td>\n",
       "      <td>0.000000</td>\n",
       "      <td>0.000000</td>\n",
       "      <td>0.000000</td>\n",
       "      <td>4063.903500</td>\n",
       "      <td>4034.010000</td>\n",
       "      <td>0.000000</td>\n",
       "      <td>0.000000</td>\n",
       "      <td>7.835118e+09</td>\n",
       "      <td>1122.482815</td>\n",
       "      <td>2.346592e+06</td>\n",
       "      <td>1.134676e+10</td>\n",
       "      <td>1776.746022</td>\n",
       "      <td>3.593689e+06</td>\n",
       "    </tr>\n",
       "    <tr>\n",
       "      <th>50%</th>\n",
       "      <td>2013</td>\n",
       "      <td>2.675794e+06</td>\n",
       "      <td>0.000000</td>\n",
       "      <td>0.000000</td>\n",
       "      <td>0.000000</td>\n",
       "      <td>7216.537000</td>\n",
       "      <td>7205.898000</td>\n",
       "      <td>0.000000</td>\n",
       "      <td>0.000000</td>\n",
       "      <td>2.990891e+10</td>\n",
       "      <td>4480.126282</td>\n",
       "      <td>9.039978e+06</td>\n",
       "      <td>4.530376e+10</td>\n",
       "      <td>5896.096631</td>\n",
       "      <td>1.032223e+07</td>\n",
       "    </tr>\n",
       "    <tr>\n",
       "      <th>75%</th>\n",
       "      <td>2013</td>\n",
       "      <td>5.730555e+07</td>\n",
       "      <td>0.000000</td>\n",
       "      <td>0.000000</td>\n",
       "      <td>0.000000</td>\n",
       "      <td>10629.535000</td>\n",
       "      <td>10587.270000</td>\n",
       "      <td>0.000000</td>\n",
       "      <td>0.000000</td>\n",
       "      <td>1.961804e+11</td>\n",
       "      <td>15371.305767</td>\n",
       "      <td>3.020105e+07</td>\n",
       "      <td>2.303713e+11</td>\n",
       "      <td>20736.547344</td>\n",
       "      <td>3.657339e+07</td>\n",
       "    </tr>\n",
       "    <tr>\n",
       "      <th>max</th>\n",
       "      <td>2013</td>\n",
       "      <td>4.220679e+11</td>\n",
       "      <td>1.000000</td>\n",
       "      <td>1.000000</td>\n",
       "      <td>1.000000</td>\n",
       "      <td>19812.040000</td>\n",
       "      <td>19812.040000</td>\n",
       "      <td>1.000000</td>\n",
       "      <td>1.000000</td>\n",
       "      <td>1.445151e+13</td>\n",
       "      <td>79511.205382</td>\n",
       "      <td>1.357380e+09</td>\n",
       "      <td>1.445151e+13</td>\n",
       "      <td>79511.205382</td>\n",
       "      <td>1.357380e+09</td>\n",
       "    </tr>\n",
       "  </tbody>\n",
       "</table>\n",
       "</div>"
      ],
      "text/plain": [
       "        year         value        contig   comlang_off        colony  \\\n",
       "count  22695  2.141300e+04  22695.000000  22695.000000  22695.000000   \n",
       "mean    2013  7.365519e+08      0.018771      0.149460      0.015113   \n",
       "std        0  6.699105e+09      0.135717      0.356549      0.122007   \n",
       "min     2013  1.000000e+00      0.000000      0.000000      0.000000   \n",
       "25%     2013  7.911600e+04      0.000000      0.000000      0.000000   \n",
       "50%     2013  2.675794e+06      0.000000      0.000000      0.000000   \n",
       "75%     2013  5.730555e+07      0.000000      0.000000      0.000000   \n",
       "max     2013  4.220679e+11      1.000000      1.000000      1.000000   \n",
       "\n",
       "               dist       distcap           ell           ill          egdp  \\\n",
       "count  22695.000000  22695.000000  22695.000000  22695.000000  2.140300e+04   \n",
       "mean    7626.396993   7607.736961      0.175017      0.174400  3.681618e+11   \n",
       "std     4480.491813   4479.504746      0.379990      0.379461  1.357443e+12   \n",
       "min        8.300385      8.300385      0.000000      0.000000  2.620733e+07   \n",
       "25%     4063.903500   4034.010000      0.000000      0.000000  7.835118e+09   \n",
       "50%     7216.537000   7205.898000      0.000000      0.000000  2.990891e+10   \n",
       "75%    10629.535000  10587.270000      0.000000      0.000000  1.961804e+11   \n",
       "max    19812.040000  19812.040000      1.000000      1.000000  1.445151e+13   \n",
       "\n",
       "             egdppc          epop          igdp        igdppc          ipop  \n",
       "count  21403.000000  2.269500e+04  2.204600e+04  22046.000000  2.269500e+04  \n",
       "mean   11998.090079  4.265514e+07  4.707726e+11  14159.274814  5.194448e+07  \n",
       "std    16470.908447  1.522340e+08  1.533534e+12  17685.615815  1.740458e+08  \n",
       "min      150.744900  9.876000e+03  1.203875e+08    150.744900  2.091900e+04  \n",
       "25%     1122.482815  2.346592e+06  1.134676e+10   1776.746022  3.593689e+06  \n",
       "50%     4480.126282  9.039978e+06  4.530376e+10   5896.096631  1.032223e+07  \n",
       "75%    15371.305767  3.020105e+07  2.303713e+11  20736.547344  3.657339e+07  \n",
       "max    79511.205382  1.357380e+09  1.445151e+13  79511.205382  1.357380e+09  "
      ]
     },
     "execution_count": 5,
     "metadata": {},
     "output_type": "execute_result"
    }
   ],
   "source": [
    "data.describe()"
   ]
  },
  {
   "cell_type": "markdown",
   "metadata": {},
   "source": [
    "The names of all the variables are as follows:"
   ]
  },
  {
   "cell_type": "code",
   "execution_count": 6,
   "metadata": {
    "collapsed": false
   },
   "outputs": [
    {
     "data": {
      "text/plain": [
       "Index(['year', 'iiso3c', 'eiso3c', 'value', 'contig', 'comlang_off', 'colony',\n",
       "       'dist', 'distcap', 'distw', 'distwces', 'ell', 'ill', 'egdp', 'egdppc',\n",
       "       'epop', 'igdp', 'igdppc', 'ipop'],\n",
       "      dtype='object')"
      ]
     },
     "execution_count": 6,
     "metadata": {},
     "output_type": "execute_result"
    }
   ],
   "source": [
    "data.columns"
   ]
  },
  {
   "cell_type": "markdown",
   "metadata": {},
   "source": [
    "Here `egdp` is export country GDP, `igdp` is import country GDP and `dist` is distance.  These are our regressors.  The dependent variable is `value`."
   ]
  },
  {
   "cell_type": "markdown",
   "metadata": {},
   "source": [
    "### Estimation "
   ]
  },
  {
   "cell_type": "markdown",
   "metadata": {},
   "source": [
    "Estimate the basic gravity model"
   ]
  },
  {
   "cell_type": "code",
   "execution_count": 7,
   "metadata": {
    "collapsed": false
   },
   "outputs": [
    {
     "name": "stdout",
     "output_type": "stream",
     "text": [
      "                            OLS Regression Results                            \n",
      "==============================================================================\n",
      "Dep. Variable:             log(value)   R-squared:                       0.652\n",
      "Model:                            OLS   Adj. R-squared:                  0.652\n",
      "Method:                 Least Squares   F-statistic:                 1.203e+04\n",
      "Date:                Wed, 04 Nov 2015   Prob (F-statistic):               0.00\n",
      "Time:                        15:57:05   Log-Likelihood:                -47185.\n",
      "No. Observations:               19655   AIC:                         9.438e+04\n",
      "Df Residuals:                   19651   BIC:                         9.441e+04\n",
      "Df Model:                           3                                         \n",
      "Covariance Type:                  HC1                                         \n",
      "==============================================================================\n",
      "                 coef    std err          z      P>|z|      [95.0% Conf. Int.]\n",
      "------------------------------------------------------------------------------\n",
      "Intercept    -30.2350      0.394    -76.773      0.000       -31.007   -29.463\n",
      "log(egdp)      1.2783      0.008    153.772      0.000         1.262     1.295\n",
      "log(igdp)      1.0287      0.009    118.885      0.000         1.012     1.046\n",
      "log(dist)     -1.3483      0.023    -58.113      0.000        -1.394    -1.303\n",
      "==============================================================================\n",
      "Omnibus:                     1819.031   Durbin-Watson:                   1.798\n",
      "Prob(Omnibus):                  0.000   Jarque-Bera (JB):             3361.159\n",
      "Skew:                          -0.639   Prob(JB):                         0.00\n",
      "Kurtosis:                       4.571   Cond. No.                         708.\n",
      "==============================================================================\n",
      "\n",
      "Warnings:\n",
      "[1] Standard Errors are heteroscedasticity robust (HC1)\n"
     ]
    }
   ],
   "source": [
    "formula = \"log(value) ~ log(egdp) + log(igdp) + log(dist)\"\n",
    "model = smf.ols(formula, data)\n",
    "result = model.fit(cov_type='HC1')\n",
    "print(result.summary())"
   ]
  },
  {
   "cell_type": "markdown",
   "metadata": {},
   "source": [
    "The next cell writes this table to a file in LaTeX format."
   ]
  },
  {
   "cell_type": "code",
   "execution_count": 8,
   "metadata": {
    "collapsed": false
   },
   "outputs": [],
   "source": [
    "summ = result.summary()\n",
    "with open(\"./result_summary.tex\", 'w') as f:\n",
    "    f.write(summ.as_latex())"
   ]
  },
  {
   "cell_type": "markdown",
   "metadata": {},
   "source": [
    "### Replication Using Linear Algebra"
   ]
  },
  {
   "cell_type": "markdown",
   "metadata": {
    "collapsed": false
   },
   "source": [
    "Let's try to replicate the values of the estimated coefficients $\\hat \\beta_k$ using matrix algebra.  The first step is to extract the variables we care about and drop all rows with missing values."
   ]
  },
  {
   "cell_type": "code",
   "execution_count": 9,
   "metadata": {
    "collapsed": true
   },
   "outputs": [],
   "source": [
    "data2 = data[['value', 'egdp', 'igdp', 'dist']]\n",
    "data2 = data2.dropna()"
   ]
  },
  {
   "cell_type": "markdown",
   "metadata": {},
   "source": [
    "Now let's compute the coefficients directly."
   ]
  },
  {
   "cell_type": "code",
   "execution_count": 10,
   "metadata": {
    "collapsed": false
   },
   "outputs": [
    {
     "name": "stdout",
     "output_type": "stream",
     "text": [
      "[-30.23498073   1.27825004   1.02865139  -1.34830012]\n"
     ]
    }
   ],
   "source": [
    "from numpy.linalg import inv\n",
    "\n",
    "y = np.asarray(np.log(data2.value))\n",
    "X = np.ones((len(y), 4))\n",
    "X[:, 1] = log(data2.egdp)\n",
    "X[:, 2] = log(data2.igdp)\n",
    "X[:, 3] = log(data2.dist)\n",
    "\n",
    "betahat = inv(X.T @ X) @ X.T @ y\n",
    "print(betahat)"
   ]
  },
  {
   "cell_type": "markdown",
   "metadata": {},
   "source": [
    "Sure enough, the values match with those given in the table above."
   ]
  },
  {
   "cell_type": "markdown",
   "metadata": {},
   "source": [
    "The $R^2$ reported in the table above is the centered $R^2$.  We can replicate it using the formula from the text."
   ]
  },
  {
   "cell_type": "code",
   "execution_count": 16,
   "metadata": {
    "collapsed": false
   },
   "outputs": [],
   "source": [
    "Py = np.dot(X, betahat)\n",
    "ybar = np.mean(y)\n",
    "Rsq = np.sum((Py - ybar)**2) / np.sum((y - ybar)**2)"
   ]
  },
  {
   "cell_type": "code",
   "execution_count": 17,
   "metadata": {
    "collapsed": false
   },
   "outputs": [
    {
     "data": {
      "text/plain": [
       "0.65199375649256841"
      ]
     },
     "execution_count": 17,
     "metadata": {},
     "output_type": "execute_result"
    }
   ],
   "source": [
    "Rsq"
   ]
  },
  {
   "cell_type": "markdown",
   "metadata": {},
   "source": [
    "### Additional Regressors"
   ]
  },
  {
   "cell_type": "markdown",
   "metadata": {},
   "source": [
    "Estimate the model with some additional explanatory variables"
   ]
  },
  {
   "cell_type": "code",
   "execution_count": null,
   "metadata": {
    "collapsed": false
   },
   "outputs": [],
   "source": [
    "model2 = smf.ols(\"log(value) ~ log(egdp) + log(igdp) + log(dist)+\\\n",
    "                  contig + comlang_off + colony + ell + ill\", data)\n",
    "result2 = model2.fit()\n",
    "result2 = result2.get_robustcov_results()\n",
    "print(result2.summary())"
   ]
  },
  {
   "cell_type": "markdown",
   "metadata": {},
   "source": [
    "Estimating the model with GDPPC instead of GDP"
   ]
  },
  {
   "cell_type": "markdown",
   "metadata": {},
   "source": [
    "Plot\n",
    "----\n",
    "\n",
    "A plot of components of the basic model"
   ]
  },
  {
   "cell_type": "code",
   "execution_count": null,
   "metadata": {
    "collapsed": false,
    "scrolled": false
   },
   "outputs": [],
   "source": [
    "import matplotlib.pyplot as plt\n",
    "import statsmodels.api as sm\n",
    "fig = plt.figure(figsize=(12,8))\n",
    "fig = sm.graphics.plot_partregress_grid(result, fig=fig)"
   ]
  },
  {
   "cell_type": "code",
   "execution_count": null,
   "metadata": {
    "collapsed": false
   },
   "outputs": [],
   "source": [
    "import matplotlib.pyplot as plt\n",
    "import statsmodels.api as sm\n",
    "fig = plt.figure(figsize=(12,18))\n",
    "fig = sm.graphics.plot_partregress_grid(result2, fig=fig)"
   ]
  },
  {
   "cell_type": "markdown",
   "metadata": {},
   "source": [
    "Additional Specifications\n",
    "-----------------------------\n",
    "\n",
    "- model1b includes population size of exporter and importer\n",
    "- model3 uses gdppc in place of gdp"
   ]
  },
  {
   "cell_type": "code",
   "execution_count": null,
   "metadata": {
    "collapsed": false
   },
   "outputs": [],
   "source": [
    "model1b = smf.ols(\"log(value) ~ log(egdp) + log(epop) + log(igdp) + log(ipop) + log(dist)\", data)\n",
    "result1b = model1b.fit()\n",
    "result1b = result1b.get_robustcov_results()\n",
    "print(result1b.summary())"
   ]
  },
  {
   "cell_type": "code",
   "execution_count": null,
   "metadata": {
    "collapsed": false
   },
   "outputs": [],
   "source": [
    "#-Model with additional Explanatory Variables-#\n",
    "model3 = smf.ols(\"log(value) ~ log(egdppc) + log(igdppc) + log(dist)+\\\n",
    "                  contig + comlang_off + colony + ell + ill\", data)\n",
    "result3 = model3.fit()\n",
    "result3 = result3.get_robustcov_results()\n",
    "print(result3.summary())"
   ]
  },
  {
   "cell_type": "code",
   "execution_count": null,
   "metadata": {
    "collapsed": true
   },
   "outputs": [],
   "source": []
  },
  {
   "cell_type": "code",
   "execution_count": null,
   "metadata": {
    "collapsed": true
   },
   "outputs": [],
   "source": []
  }
 ],
 "metadata": {
  "kernelspec": {
   "display_name": "Python 3",
   "language": "python",
   "name": "python3"
  },
  "language_info": {
   "codemirror_mode": {
    "name": "ipython",
    "version": 3
   },
   "file_extension": ".py",
   "mimetype": "text/x-python",
   "name": "python",
   "nbconvert_exporter": "python",
   "pygments_lexer": "ipython3",
   "version": "3.5.0"
  }
 },
 "nbformat": 4,
 "nbformat_minor": 0
}
